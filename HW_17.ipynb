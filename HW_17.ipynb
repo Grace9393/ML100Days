{
 "cells": [
  {
   "cell_type": "code",
   "execution_count": null,
   "metadata": {},
   "outputs": [],
   "source": [
    "#1. 在速度較慢的時候，可以先從哪邊開始檢查？ 是否有使⽤⾃訂義的函數: a. 如果有可查詢pandas中是否有⽀援相關演算法 b. 如果以上都沒辦法改善，可以從資料讀取⽅式下⼿，將要讀取的資料改成pkl檔"
   ]
  },
  {
   "cell_type": "code",
   "execution_count": null,
   "metadata": {},
   "outputs": [],
   "source": [
    "#2. 資料過⼤時應採取什麼⽅式讓記憶體占⽤量下降？ 將欄位中的型態降級"
   ]
  }
 ],
 "metadata": {
  "kernelspec": {
   "display_name": "Python 3",
   "language": "python",
   "name": "python3"
  },
  "language_info": {
   "codemirror_mode": {
    "name": "ipython",
    "version": 3
   },
   "file_extension": ".py",
   "mimetype": "text/x-python",
   "name": "python",
   "nbconvert_exporter": "python",
   "pygments_lexer": "ipython3",
   "version": "3.7.3"
  }
 },
 "nbformat": 4,
 "nbformat_minor": 2
}
